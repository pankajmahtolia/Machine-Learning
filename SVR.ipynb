{
  "nbformat": 4,
  "nbformat_minor": 0,
  "metadata": {
    "colab": {
      "name": "SVR.ipynb",
      "provenance": [],
      "collapsed_sections": [],
      "authorship_tag": "ABX9TyPlUK/8uK+3VFrUSC6s3SqG",
      "include_colab_link": true
    },
    "kernelspec": {
      "name": "python3",
      "display_name": "Python 3"
    }
  },
  "cells": [
    {
      "cell_type": "markdown",
      "metadata": {
        "id": "view-in-github",
        "colab_type": "text"
      },
      "source": [
        "<a href=\"https://colab.research.google.com/github/pankajmahtolia/Machine-Learning/blob/Regression/SVR.ipynb\" target=\"_parent\"><img src=\"https://colab.research.google.com/assets/colab-badge.svg\" alt=\"Open In Colab\"/></a>"
      ]
    },
    {
      "cell_type": "code",
      "metadata": {
        "id": "83ChDD91K4UE"
      },
      "source": [
        "import numpy as np\r\n",
        "import matplotlib.pyplot as plt\r\n",
        "import pandas as pd"
      ],
      "execution_count": null,
      "outputs": []
    },
    {
      "cell_type": "code",
      "metadata": {
        "colab": {
          "base_uri": "https://localhost:8080/"
        },
        "id": "XReo7leILJNw",
        "outputId": "d75823ee-953e-4f69-8bd5-5feb5c57dfd7"
      },
      "source": [
        "dataset= pd.read_csv('Position_Salaries.csv')\r\n",
        "X= dataset.iloc[:, 1:-1].values\r\n",
        "y= dataset.iloc[:, -1].values\r\n",
        "print(X)\r\n",
        "print('\\n')\r\n",
        "print(y)"
      ],
      "execution_count": null,
      "outputs": [
        {
          "output_type": "stream",
          "text": [
            "[[ 1]\n",
            " [ 2]\n",
            " [ 3]\n",
            " [ 4]\n",
            " [ 5]\n",
            " [ 6]\n",
            " [ 7]\n",
            " [ 8]\n",
            " [ 9]\n",
            " [10]\n",
            " [11]\n",
            " [12]\n",
            " [13]\n",
            " [14]\n",
            " [15]\n",
            " [16]\n",
            " [17]\n",
            " [18]\n",
            " [19]\n",
            " [20]]\n",
            "\n",
            "\n",
            "[  45000   50000   60000   80000  110000  150000  200000  300000  500000\n",
            "  700000  900000 1100000 1360000 1600000 2000000 2300000 2400000 2900000\n",
            " 3100000 3800000]\n"
          ],
          "name": "stdout"
        }
      ]
    },
    {
      "cell_type": "code",
      "metadata": {
        "colab": {
          "base_uri": "https://localhost:8080/"
        },
        "id": "t2s9gaOKLp3i",
        "outputId": "620a84cc-3bcb-49f5-d010-3725e9b53e92"
      },
      "source": [
        "y= y.reshape(len(y), 1)\r\n",
        "print(y)"
      ],
      "execution_count": null,
      "outputs": [
        {
          "output_type": "stream",
          "text": [
            "[[  45000]\n",
            " [  50000]\n",
            " [  60000]\n",
            " [  80000]\n",
            " [ 110000]\n",
            " [ 150000]\n",
            " [ 200000]\n",
            " [ 300000]\n",
            " [ 500000]\n",
            " [ 700000]\n",
            " [ 900000]\n",
            " [1100000]\n",
            " [1360000]\n",
            " [1600000]\n",
            " [2000000]\n",
            " [2300000]\n",
            " [2400000]\n",
            " [2900000]\n",
            " [3100000]\n",
            " [3800000]]\n"
          ],
          "name": "stdout"
        }
      ]
    },
    {
      "cell_type": "code",
      "metadata": {
        "colab": {
          "base_uri": "https://localhost:8080/"
        },
        "id": "fMHZnHIKMkBm",
        "outputId": "f66ed7c5-e7fd-4eef-fb16-944bb35865de"
      },
      "source": [
        "from sklearn.model_selection import train_test_split\r\n",
        "X_train, X_test, y_train, y_test= train_test_split(X, y, test_size=0.2, random_state=0)\r\n",
        "print(X_train)\r\n",
        "print(y_train)\r\n",
        "print('\\n')\r\n",
        "print(X_test)\r\n",
        "print(y_test)"
      ],
      "execution_count": null,
      "outputs": [
        {
          "output_type": "stream",
          "text": [
            "[[11]\n",
            " [18]\n",
            " [ 7]\n",
            " [14]\n",
            " [ 5]\n",
            " [ 3]\n",
            " [ 6]\n",
            " [15]\n",
            " [10]\n",
            " [ 8]\n",
            " [17]\n",
            " [12]\n",
            " [ 4]\n",
            " [ 1]\n",
            " [16]\n",
            " [13]]\n",
            "[[ 900000]\n",
            " [2900000]\n",
            " [ 200000]\n",
            " [1600000]\n",
            " [ 110000]\n",
            " [  60000]\n",
            " [ 150000]\n",
            " [2000000]\n",
            " [ 700000]\n",
            " [ 300000]\n",
            " [2400000]\n",
            " [1100000]\n",
            " [  80000]\n",
            " [  45000]\n",
            " [2300000]\n",
            " [1360000]]\n",
            "\n",
            "\n",
            "[[19]\n",
            " [ 2]\n",
            " [20]\n",
            " [ 9]]\n",
            "[[3100000]\n",
            " [  50000]\n",
            " [3800000]\n",
            " [ 500000]]\n"
          ],
          "name": "stdout"
        }
      ]
    },
    {
      "cell_type": "markdown",
      "metadata": {
        "id": "6G4HZ5ftL7-R"
      },
      "source": [
        "**Feature Scalling**"
      ]
    },
    {
      "cell_type": "code",
      "metadata": {
        "id": "Tq9ubeDyLzGj"
      },
      "source": [
        "#Feature scalling is done because to compansate the difference in the data values...\r\n",
        "#While in LR, MLR, PLR coefficients where there to compansate the difference...\r\n",
        "from sklearn.preprocessing import StandardScaler\r\n",
        "sc_X= StandardScaler()\r\n",
        "sc_y= StandardScaler()\r\n",
        "X_train= sc_X.fit_transform(X_train)\r\n",
        "X_test= sc_X.transform(X_test)\r\n",
        "\r\n",
        "y_train= sc_y.fit_transform(y_train)\r\n",
        "y_test= sc_y.transform(y_test)\r\n"
      ],
      "execution_count": null,
      "outputs": []
    },
    {
      "cell_type": "code",
      "metadata": {
        "colab": {
          "base_uri": "https://localhost:8080/"
        },
        "id": "3VaPoHDfNuwU",
        "outputId": "df4dd545-a5c5-420d-a1af-3868fddaa3bc"
      },
      "source": [
        "print(X_train)\r\n",
        "print(y_train)\r\n",
        "print('\\n')\r\n",
        "print(X_test)\r\n",
        "print(y_test)"
      ],
      "execution_count": null,
      "outputs": [
        {
          "output_type": "stream",
          "text": [
            "[[ 0.19425717]\n",
            " [ 1.55405738]\n",
            " [-0.58277152]\n",
            " [ 0.77702869]\n",
            " [-0.97128586]\n",
            " [-1.35980021]\n",
            " [-0.77702869]\n",
            " [ 0.97128586]\n",
            " [ 0.        ]\n",
            " [-0.38851434]\n",
            " [ 1.35980021]\n",
            " [ 0.38851434]\n",
            " [-1.16554303]\n",
            " [-1.74831455]\n",
            " [ 1.16554303]\n",
            " [ 0.58277152]]\n",
            "[[-0.11998785]\n",
            " [ 2.0072205 ]\n",
            " [-0.86451077]\n",
            " [ 0.62453508]\n",
            " [-0.96023514]\n",
            " [-1.01341535]\n",
            " [-0.91769098]\n",
            " [ 1.04997674]\n",
            " [-0.33270868]\n",
            " [-0.75815035]\n",
            " [ 1.47541841]\n",
            " [ 0.09273299]\n",
            " [-0.99214327]\n",
            " [-1.02936941]\n",
            " [ 1.369058  ]\n",
            " [ 0.36927007]]\n",
            "\n",
            "\n",
            "[[ 1.74831455]\n",
            " [-1.55405738]\n",
            " [ 1.94257172]\n",
            " [-0.19425717]]\n",
            "[[ 2.21994133]\n",
            " [-1.02405139]\n",
            " [ 2.96446426]\n",
            " [-0.54542951]]\n"
          ],
          "name": "stdout"
        }
      ]
    },
    {
      "cell_type": "markdown",
      "metadata": {
        "id": "vqXBo7z0OiLo"
      },
      "source": [
        "**Training The Model**"
      ]
    },
    {
      "cell_type": "code",
      "metadata": {
        "colab": {
          "base_uri": "https://localhost:8080/"
        },
        "id": "0c9hIlxKNvU9",
        "outputId": "3e54c15f-492c-4e76-d8e7-55f66a454dc8"
      },
      "source": [
        "from sklearn.svm import SVR\r\n",
        "regressor= SVR(kernel= 'rbf')\r\n",
        "regressor.fit(X_train, y_train)"
      ],
      "execution_count": null,
      "outputs": [
        {
          "output_type": "stream",
          "text": [
            "/usr/local/lib/python3.6/dist-packages/sklearn/utils/validation.py:760: DataConversionWarning: A column-vector y was passed when a 1d array was expected. Please change the shape of y to (n_samples, ), for example using ravel().\n",
            "  y = column_or_1d(y, warn=True)\n"
          ],
          "name": "stderr"
        },
        {
          "output_type": "execute_result",
          "data": {
            "text/plain": [
              "SVR(C=1.0, cache_size=200, coef0=0.0, degree=3, epsilon=0.1, gamma='scale',\n",
              "    kernel='rbf', max_iter=-1, shrinking=True, tol=0.001, verbose=False)"
            ]
          },
          "metadata": {
            "tags": []
          },
          "execution_count": 60
        }
      ]
    },
    {
      "cell_type": "markdown",
      "metadata": {
        "id": "rvZyAEzoSboT"
      },
      "source": [
        "**Predicting Result for Test set**"
      ]
    },
    {
      "cell_type": "code",
      "metadata": {
        "colab": {
          "base_uri": "https://localhost:8080/"
        },
        "id": "2UATZravPm5M",
        "outputId": "8f440e98-a118-4243-9564-0894c6ff348f"
      },
      "source": [
        "print(sc_X.inverse_transform(X_test))\r\n",
        "print('   ')\r\n",
        "print(sc_y.inverse_transform(y_test))\r\n",
        "print('\\n')\r\n",
        "print('Predicted result for X_test is ')\r\n",
        "print(sc_y.inverse_transform(regressor.predict(X_test)))"
      ],
      "execution_count": null,
      "outputs": [
        {
          "output_type": "stream",
          "text": [
            "[[19.]\n",
            " [ 2.]\n",
            " [20.]\n",
            " [ 9.]]\n",
            "   \n",
            "[[3100000.]\n",
            " [  50000.]\n",
            " [3800000.]\n",
            " [ 500000.]]\n",
            "\n",
            "\n",
            "Predicted result for X_test is \n",
            "[2300255.90843702   97315.01984716 2135842.43801512  517081.07960362]\n"
          ],
          "name": "stdout"
        }
      ]
    },
    {
      "cell_type": "code",
      "metadata": {
        "colab": {
          "base_uri": "https://localhost:8080/"
        },
        "id": "3A80UyzLQCQ-",
        "outputId": "0d61dc38-94ba-49aa-b980-75c696587b93"
      },
      "source": [
        "#Self choosen value\r\n",
        "print(sc_y.inverse_transform(regressor.predict(sc_X.transform([[10]]))))"
      ],
      "execution_count": null,
      "outputs": [
        {
          "output_type": "stream",
          "text": [
            "[676958.65182973]\n"
          ],
          "name": "stdout"
        }
      ]
    },
    {
      "cell_type": "markdown",
      "metadata": {
        "id": "Epz8BXMoS04T"
      },
      "source": [
        "**Visulizing the model**"
      ]
    },
    {
      "cell_type": "code",
      "metadata": {
        "colab": {
          "base_uri": "https://localhost:8080/",
          "height": 295
        },
        "id": "5WbwrcPFR9vt",
        "outputId": "419cbd56-020d-4e96-c736-82e27dc68fc8"
      },
      "source": [
        "plt.scatter(sc_X.inverse_transform(X_train), sc_y.inverse_transform(y_train), color='red')\r\n",
        "plt.plot(sc_X.inverse_transform(X_train), sc_y.inverse_transform(regressor.predict(X_train)), color='green')\r\n",
        "plt.title('Salary-Level Chart')\r\n",
        "plt.xlabel('level')\r\n",
        "plt.ylabel('salary')\r\n",
        "plt.show()"
      ],
      "execution_count": null,
      "outputs": [
        {
          "output_type": "display_data",
          "data": {
            "image/png": "[encoded data removed]",
            "text/plain": [
              "<Figure size 432x288 with 1 Axes>"
            ]
          },
          "metadata": {
            "tags": [],
            "needs_background": "light"
          }
        }
      ]
    },
    {
      "cell_type": "code",
      "metadata": {
        "colab": {
          "base_uri": "https://localhost:8080/",
          "height": 295
        },
        "id": "u33hlk1GTuTY",
        "outputId": "414dab5d-cdcb-4ebf-fcbb-9639cdbfa565"
      },
      "source": [
        "X_grid = np.arange(min(sc_X.inverse_transform(X_train)), max(sc_X.inverse_transform(X_train)), 0.1)\r\n",
        "X_grid = X_grid.reshape((len(X_grid), 1))\r\n",
        "plt.scatter(sc_X.inverse_transform(X_train), sc_y.inverse_transform(y_train), color = 'red')\r\n",
        "plt.plot(X_grid, sc_y.inverse_transform(regressor.predict(sc_X.transform(X_grid))), color = 'green')\r\n",
        "plt.title('Salary-Level (SVR)')\r\n",
        "plt.xlabel('Position level')\r\n",
        "plt.ylabel('Salary')\r\n",
        "plt.show()"
      ],
      "execution_count": null,
      "outputs": [
        {
          "output_type": "display_data",
          "data": {
            "image/png": "[encoded data removed]",
            "text/plain": [
              "<Figure size 432x288 with 1 Axes>"
            ]
          },
          "metadata": {
            "tags": [],
            "needs_background": "light"
          }
        }
      ]
    },
    {
      "cell_type": "markdown",
      "metadata": {
        "id": "nbX5e9ycZRuF"
      },
      "source": [
        "**Visulizing Test Set result in Graph**"
      ]
    },
    {
      "cell_type": "code",
      "metadata": {
        "colab": {
          "base_uri": "https://localhost:8080/",
          "height": 295
        },
        "id": "sYo98X94YcZU",
        "outputId": "b4949a69-d18c-4513-b3ae-9d4d6be459ca"
      },
      "source": [
        "X_grid = np.arange(min(sc_X.inverse_transform(X_train)), max(sc_X.inverse_transform(X_train)), 0.1)\r\n",
        "X_grid = X_grid.reshape((len(X_grid), 1))\r\n",
        "plt.scatter(sc_X.inverse_transform(X_test), sc_y.inverse_transform(y_test), color = 'red')\r\n",
        "plt.plot(X_grid, sc_y.inverse_transform(regressor.predict(sc_X.transform(X_grid))), color = 'green')\r\n",
        "plt.title('Salary-Level (SVR)')\r\n",
        "plt.xlabel('Position level')\r\n",
        "plt.ylabel('Salary')\r\n",
        "plt.show()"
      ],
      "execution_count": null,
      "outputs": [
        {
          "output_type": "display_data",
          "data": {
            "image/png": "[encoded data removed]",
            "text/plain": [
              "<Figure size 432x288 with 1 Axes>"
            ]
          },
          "metadata": {
            "tags": [],
            "needs_background": "light"
          }
        }
      ]
    },
    {
      "cell_type": "code",
      "metadata": {
        "id": "6kgecD9RY9EM"
      },
      "source": [
        ""
      ],
      "execution_count": null,
      "outputs": []
    }
  ]
}